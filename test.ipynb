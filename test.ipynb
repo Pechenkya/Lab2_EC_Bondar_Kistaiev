{
 "cells": [
  {
   "cell_type": "code",
   "execution_count": 1,
   "id": "bd7ed835",
   "metadata": {},
   "outputs": [],
   "source": [
    "from kriptografy import *\n",
    "from optimus import *\n",
    "from Crypto.Cipher import AES "
   ]
  },
  {
   "cell_type": "code",
   "execution_count": 2,
   "id": "33efaed8",
   "metadata": {},
   "outputs": [
    {
     "name": "stdout",
     "output_type": "stream",
     "text": [
      "b'\\xfe\\xd9\\xc0>\\x18\\xf4*\\x16j\\x8b\\xc8\\x13\\xaa\\x0f\\x1am'\n"
     ]
    },
    {
     "data": {
      "text/plain": [
       "b'\\x03?\\xba\\x89E\\x84\\xd2\\xab\\xa4\\xc1\\xdb~\\xf4\\x85y\\xa7'"
      ]
     },
     "execution_count": 2,
     "metadata": {},
     "output_type": "execute_result"
    }
   ],
   "source": [
    "encaps_key = 0xdc1584860b4f7b8a02d861032ef66360.to_bytes(16)\n",
    "k = 0xfed9c03e18f42a166a8bc813aa0f1a6d.to_bytes(16)\n",
    "print(k)\n",
    "# Ck = 0x6d5de94bafcb667a2357ae55849f9acd.to_bytes(16)\n",
    "\n",
    "Ck = AES.new(encaps_key, AES.MODE_CBC).encrypt(k)\n",
    "\n",
    "AES.new(encaps_key, AES.MODE_CBC).decrypt(Ck)"
   ]
  },
  {
   "cell_type": "code",
   "execution_count": 3,
   "id": "788db054",
   "metadata": {},
   "outputs": [],
   "source": [
    "PublicKeyInfrastructure = PKI()"
   ]
  },
  {
   "cell_type": "markdown",
   "id": "23970506",
   "metadata": {},
   "source": [
    "### ECDH example"
   ]
  },
  {
   "cell_type": "code",
   "execution_count": 4,
   "id": "7cb404ce",
   "metadata": {},
   "outputs": [
    {
     "name": "stdout",
     "output_type": "stream",
     "text": [
      "User1 revealed secrets: {'User2': b\"|f\\x07\\x05x\\x15\\xd9\\x93\\x83\\x0ci\\x8f\\xf4\\xefQa,\\x07\\x9e\\x100#\\x07'xT6\\x95\\xa4N\\xad\\xe4\"}\n",
      "User2 revealed secrets: {'User1': b\"|f\\x07\\x05x\\x15\\xd9\\x93\\x83\\x0ci\\x8f\\xf4\\xefQa,\\x07\\x9e\\x100#\\x07'xT6\\x95\\xa4N\\xad\\xe4\", 'User3': b'A\\xae\\xddod\\x96\\xf2$\\x97.\"lu\\xbf\\x88\\n\\xd7\\x94?\\x8fe\\xe6#O\\xed\\xc2\\xfb\\xb2#(}8'}\n",
      "User3 revealed secrets: {'User2': b'A\\xae\\xddod\\x96\\xf2$\\x97.\"lu\\xbf\\x88\\n\\xd7\\x94?\\x8fe\\xe6#O\\xed\\xc2\\xfb\\xb2#(}8'}\n",
      "✅ All shared secrets are consistent across users ✅\n"
     ]
    }
   ],
   "source": [
    "DH_User1 = UserSecretSharer(\"User1\", PublicKeyInfrastructure)\n",
    "DH_User2 = UserSecretSharer(\"User2\", PublicKeyInfrastructure)\n",
    "DH_User3 = UserSecretSharer(\"User3\", PublicKeyInfrastructure)\n",
    "\n",
    "init_req_1_to_2 = DH_User1.send_DH_init(\"User2\")\n",
    "DH_User2.receive_DH_init(init_req_1_to_2)\n",
    "\n",
    "init_req_2_to_3 = DH_User2.send_DH_init(\"User3\")\n",
    "DH_User3.receive_DH_init(init_req_2_to_3)\n",
    "\n",
    "U1_secrets = DH_User1.reveal_shared_secrets()['secrets']\n",
    "U2_secrets = DH_User2.reveal_shared_secrets()['secrets']\n",
    "U3_secrets = DH_User3.reveal_shared_secrets()['secrets']\n",
    "\n",
    "print(\"User1 revealed secrets:\", U1_secrets)\n",
    "print(\"User2 revealed secrets:\", U2_secrets)\n",
    "print(\"User3 revealed secrets:\", U3_secrets)\n",
    "\n",
    "# Verify that the shared secrets are consistent\n",
    "assert U2_secrets.get(\"User1\", None) == U1_secrets.get(\"User2\", None), \"❌ Shared secrets are not consistent across users 1 and 2. ❌\"\n",
    "assert U3_secrets.get(\"User1\", None) == U1_secrets.get(\"User3\", None), \"❌ Shared secrets are not consistent across users 1 and 3. ❌\"\n",
    "assert U3_secrets.get(\"User2\", None) == U2_secrets.get(\"User3\", None), \"❌ Shared secrets are not consistent across users 2 and 3. ❌\"\n",
    "\n",
    "print(\"✅ All shared secrets are consistent across users ✅\")"
   ]
  },
  {
   "cell_type": "markdown",
   "id": "1f566cd4",
   "metadata": {},
   "source": [
    "### DHE example"
   ]
  },
  {
   "cell_type": "code",
   "execution_count": 5,
   "id": "16fca49b",
   "metadata": {},
   "outputs": [
    {
     "name": "stdout",
     "output_type": "stream",
     "text": [
      "Peter -> Bean: {'package_type': 'new_send', 'name': 'Peter', 'DHE_piece': b')\\xd4\\xd1H\\xf4o\\xa7G!\\x9b\\x82c\\x19\\xc5\\x1b\\xd0R\\x19\\xb1\\xc6tD\\xe4/s\\xa0\\x03\\xe2\\xd3\\xc3\\xb6\\xc1\\x8a\\xcc-n\\x08-\\xb8\\xae\\x97\\xa3p\\xa3 6\\xae\\x92Aif\\x1d\\xa6\\x9fA\\xdd', 'encapsulated_key': b'\\xe8\\x01X\\x8f\\x95\\xac\\\\)\\xcdk\\xa4\\xff\\x83\\xe66\\xcd', 'message': b'cW!\\xefX\\xa2\\x0ef\\xfc\\x80*\\xf9\\xfd}^\\xe3'}\n",
      "Peter -> Matthew: {'package_type': 'new_send', 'name': 'Peter', 'DHE_piece': b'\\xab\\x13\\xbf{pZ8\\xd6\\x18\\xea\\x07\\xf5\\xbdzG\\x04\\x16\\x8d\\x1a\\x07\\x1c\\xc1\\xd7\\xee#y[\\xd0\\xa0\\x05;\\xf1\\xb6\\x99\\x82\\xbc\\xfc\\xdc]O\\xbfk\\xd1\\xafG\\n\\x07h\\x85\\xbe\\x87\\x8b\\x0b\\x13(\\xe7', 'encapsulated_key': b')\\xc2\\x02\\x0e[\\x90B\\x08+\\xbd\\xf7Z\\xf8\\xf4*\\xbd', 'message': b'\\xbf\\xbcp|\\x1a\\x87\\xa8]\\rCF\\xc8\\x15H\\xd8\\xb5'}\n",
      "Matthew -> Bean: {'package_type': 'new_send', 'name': 'Matthew', 'DHE_piece': b'$\\x8ag\\xfcPV\\xd6P\"\\n\\x08\\x14b{\\x11\\x86w9)\\xf9\\xe7Wm\\xc0>\\x19\\xf0?@\\xecBk\\x16;\\xba\\x9b\\x1c\\x04\\x02\\x9e\\x1a$\\xa2\\x91\\xb3A\\xd6\\xca\\x9d|\\x8dx\\xd5[\\xea\\xc1', 'encapsulated_key': b'#f\\xb0-\\xae \\xbb\\xd3\\xd7\\xbc\\xc0y\\xb4,\\xff2', 'message': b'R\\xcd\\x06\\xa2\\xc8\\xcc\\x10\\xb3\\xe2b\\x01\\x05\\x7fz\\rW'}\n",
      "Bean -> Peter: {'package_type': 'established_send', 'name': 'Bean', 'message': b'H\\xe9j+\\x9en\\xa2\\xae\\x86z]\\xcd\\xcaNf\\x93\\x05\\x12\\x1f\\n:6Hs\\x05E\\xd3\\xfeH\\x01\\xa34'}\n",
      "Peter -> Matthew: {'package_type': 'established_send', 'name': 'Peter', 'message': b'\\xed\\x93\\xd2\\xff\\x0cH\\x83o\\x013\\xdb3\\x83n\\x0e\\xd0\\xb6\\xb7\\xa4N+\\x0c\\xf5k\\xfc\\xb8U\\xd1\\xf6\\xe5fl'}\n",
      "Matthew -> Peter: {'package_type': 'established_send', 'name': 'Matthew', 'message': b'\\x92\\xd2\\xb1\\xfe;\\xcaxOe\\x91\\xf9\\xc6\\xa1\\xc1\\x92.8\\x85\\x03=\\xbex\\xbb\\xc8\\x998\\x92$\\xf3\\x03\\xab='}\n",
      "\n",
      "---- Peter ----\n",
      "Chat with Bean:\n",
      "\t-Sent:  Pryvit, Bib!\n",
      "\t-Received:  PetaB fren! Matthew not fren!\n",
      "Chat with Matthew:\n",
      "\t-Sent:  Pryvit, Fren!\n",
      "\t-Sent:  PetaB fren! Why not fren!\n",
      "\t-Received:  Ti schizoFRENik! :D\n",
      "\n",
      "---- Matthew ----\n",
      "Chat with Peter:\n",
      "\t-Received:  Pryvit, Fren!\n",
      "\t-Received:  PetaB fren! Why not fren!\n",
      "\t-Sent:  Ti schizoFRENik! :D\n",
      "Chat with Bean:\n",
      "\t-Sent:  PetaB not fren!\n",
      "\n",
      "---- Bean ----\n",
      "Chat with Peter:\n",
      "\t-Received:  Pryvit, Bib!\n",
      "\t-Sent:  PetaB fren! Matthew not fren!\n",
      "Chat with Matthew:\n",
      "\t-Received:  PetaB not fren!\n",
      "\n"
     ]
    }
   ],
   "source": [
    "Peter = UserHybridTalker(\"Peter\", PublicKeyInfrastructure)\n",
    "Bean = UserHybridTalker(\"Bean\", PublicKeyInfrastructure)  \n",
    "Matthew = UserHybridTalker(\"Matthew\", PublicKeyInfrastructure)  \n",
    "\n",
    "tx = Peter.hybrid_send(\"Bean\", \"Pryvit, Bib!\")\n",
    "print(\"Peter -> Bean:\", tx)\n",
    "Bean.hybrid_receive(tx)\n",
    "\n",
    "tx = Peter.hybrid_send(\"Matthew\", \"Pryvit, Fren!\")\n",
    "print(\"Peter -> Matthew:\", tx)\n",
    "Matthew.hybrid_receive(tx)\n",
    "\n",
    "tx = Matthew.hybrid_send(\"Bean\", \"PetaB not fren!\")\n",
    "print(\"Matthew -> Bean:\", tx)\n",
    "Bean.hybrid_receive(tx)\n",
    "\n",
    "tx = Bean.hybrid_send(\"Peter\", \"PetaB fren! Matthew not fren!\")\n",
    "print(\"Bean -> Peter:\", tx)\n",
    "Peter.hybrid_receive(tx)\n",
    "\n",
    "tx = Peter.hybrid_send(\"Matthew\", \"PetaB fren! Why not fren!\")\n",
    "print(\"Peter -> Matthew:\", tx)\n",
    "Matthew.hybrid_receive(tx)\n",
    "\n",
    "tx = Matthew.hybrid_send(\"Peter\", \"Ti schizoFRENik! :D\")\n",
    "print(\"Matthew -> Peter:\", tx)\n",
    "Peter.hybrid_receive(tx)\n",
    "\n",
    "print()\n",
    "Peter.leak_chats()\n",
    "Matthew.leak_chats()\n",
    "Bean.leak_chats()\n",
    "\n",
    "# print(\"Peter's chat leak:\", Leak_from_Peter)\n",
    "# print(\"Matthew's chat leak:\", Leak_from_Matthew)\n",
    "# print(\"Bean's chat leak:\", Leak_from_Bean)\n",
    "\n",
    "# print(\"✅ All chat leaks are consistent across users ✅\")"
   ]
  },
  {
   "cell_type": "markdown",
   "id": "ffc113ba",
   "metadata": {},
   "source": [
    "### ECDSA example"
   ]
  },
  {
   "cell_type": "code",
   "execution_count": 7,
   "id": "626d49da",
   "metadata": {},
   "outputs": [
    {
     "name": "stdout",
     "output_type": "stream",
     "text": [
      "Singer's signature: {'package_type': 'signed_message', 'name': 'Singer', 'message': \"Song lyrics: 'Oi u poli, oi u poli, tam de zhyvut' lyudy!  -- (c) Botynok'\", 'signature': (6696397760501658686796646345827764133672726255529551632935220199999, 15712000345868455943833423223180628117096294121875012000924467568471)}\n",
      "✅ Listener verified the signature successfully. ✅\n"
     ]
    }
   ],
   "source": [
    "Singer = DigitalSignatureUser(\"Singer\", PublicKeyInfrastructure)\n",
    "Listener = DigitalSignatureUser(\"Listener\", PublicKeyInfrastructure)\n",
    "\n",
    "Message = \"Song lyrics: 'Oi u poli, oi u poli, tam de zhyvut' lyudy!  -- (c) Botynok'\"\n",
    "SignatureResp = Singer.sign_message(Message)\n",
    "print(\"Singer's signature:\", SignatureResp)\n",
    "\n",
    "bSignCorrect = Listener.verify_signature(SignatureResp)\n",
    "if bSignCorrect:\n",
    "    print(\"✅ Listener verified the signature successfully. ✅\")\n",
    "else:\n",
    "    print(\"❌ Listener failed to verify the signature. ❌\")"
   ]
  }
 ],
 "metadata": {
  "kernelspec": {
   "display_name": "Python 3",
   "language": "python",
   "name": "python3"
  },
  "language_info": {
   "codemirror_mode": {
    "name": "ipython",
    "version": 3
   },
   "file_extension": ".py",
   "mimetype": "text/x-python",
   "name": "python",
   "nbconvert_exporter": "python",
   "pygments_lexer": "ipython3",
   "version": "3.11.5"
  }
 },
 "nbformat": 4,
 "nbformat_minor": 5
}
