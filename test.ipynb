{
 "cells": [
  {
   "cell_type": "code",
   "execution_count": 1,
   "id": "bd7ed835",
   "metadata": {},
   "outputs": [],
   "source": [
    "from epileptic import *\n",
    "import random\n",
    "import copy"
   ]
  },
  {
   "cell_type": "markdown",
   "id": "75da56ee",
   "metadata": {},
   "source": [
    "## P-224"
   ]
  },
  {
   "cell_type": "code",
   "execution_count": null,
   "id": "788db054",
   "metadata": {},
   "outputs": [],
   "source": [
    "p = 0xffffffffffffffffffffffffffffffff000000000000000000000001\n",
    "a = 0xfffffffffffffffffffffffffffffffefffffffffffffffffffffffe\n",
    "b = 0xb4050a850c04b3abf54132565044b0b7d7bfd8ba270b39432355ffb4\n",
    "n = 0xffffffffffffffffffffffffffff16a2e0b8f03e13dd29455c5c2a3d\n",
    "\n",
    "EC = EllipticCurve(0xfffffffffffffffffffffffffffffffefffffffffffffffffffffffe,\n",
    "                   0xb4050a850c04b3abf54132565044b0b7d7bfd8ba270b39432355ffb4, \n",
    "                   0xffffffffffffffffffffffffffffffff000000000000000000000001)\n",
    "\n",
    "G = EllipticCurvePoint.from_affine(0xb70e0cbd6bb4bf7f321390b94a03c1d356c21122343280d6115c1d21, 0xbd376388b5f723fb4c22dfe6cd4375a05a07476444d5819985007e34, EC)\n"
   ]
  },
  {
   "cell_type": "markdown",
   "id": "ea123312",
   "metadata": {},
   "source": [
    "# Tests"
   ]
  },
  {
   "cell_type": "code",
   "execution_count": 16,
   "id": "07c94106",
   "metadata": {},
   "outputs": [
    {
     "name": "stdout",
     "output_type": "stream",
     "text": [
      "Test(1):       Passed\n",
      "Test(2):       Passed\n",
      "Test(3):       Passed\n",
      "Test(4):       Passed\n",
      "Test(5):       Passed\n",
      "Test(6):       Passed\n",
      "Test(7):       Passed\n",
      "Test(8):       Passed\n",
      "Test(9):       Passed\n",
      "Test(10):      Passed\n",
      "Test(11):      Passed\n",
      "Test(12):      Passed\n",
      "Test(13):      Passed\n",
      "Test(14):      Passed\n",
      "Test(15):      Passed\n",
      "Test(16):      Passed\n",
      "Test(17):      Passed\n",
      "Test(18):      Passed\n",
      "Test(19):      Passed\n",
      "Test(20):      Passed\n",
      "Test(21):      Passed\n",
      "Test(22):      Passed\n",
      "Test(23):      Passed\n",
      "Test(24):      Passed\n",
      "\n",
      "Test [de]Generator:\tPassed\n"
     ]
    }
   ],
   "source": [
    "def test_inf(P):\n",
    "    O = P.curve.inf()\n",
    "    assert P.curve.is_on_curve(O), \"inf not on curve\"\n",
    "    assert P + O == P, \"point + inf != point\"\n",
    "    assert O + P == P, \"inf + point != point\"\n",
    "    assert P - O == P, \"point - inf != point\"\n",
    "    assert O - P == -P, \"inf - point != -point\"\n",
    "    assert O + O == O, \"inf + inf != inf\"\n",
    "    assert O - O == O, \"inf - inf != inf\"\n",
    "    \n",
    "\n",
    "def test_peklo(P):\n",
    "    s1 = random.randint(1, n)\n",
    "    s2 = random.randint(1, n)\n",
    "    sum = (s1 + s2) % n\n",
    "    diff = (s1 - s2) % n\n",
    "    point1 = s1 * P\n",
    "    point2 = s2 * P\n",
    "    result_sum = sum * P\n",
    "    result_diff = diff * P\n",
    "\n",
    "    assert (point1 + point2) == result_sum, f\"[s1]P + [s2]P != [s1+s2]P\"\n",
    "    assert (point1 - point2) == result_diff, \"[s1]P - [s2]P != [s1-s2]P\"\n",
    "    assert (point1 + point2) == (point2 + point1), \"[s1]P + [s2]P != [s2]P + [s1]P\"\n",
    "    \n",
    "\n",
    "def test_scalaro_producto(P):\n",
    "    s = random.randint(2, 1000)\n",
    "    point1 = s * P\n",
    "\n",
    "    point2 = P\n",
    "    for i in range(s - 1):\n",
    "        point2 = point2 + P\n",
    "\n",
    "    assert point1 == point2, f\"{point1.to_affine()} !=\\n {point2.to_affine()}\" #\"[s]P != P + P + ... + P\"\n",
    "    assert n * P == EC.inf(), \"[n]P != inf\"\n",
    "\n",
    "\n",
    "def test_propitis(P):\n",
    "    s1 = random.randint(1, n)\n",
    "    s2 = random.randint(1, n)\n",
    "    s3 = random.randint(1, n)\n",
    "\n",
    "    point1 = s1 * P\n",
    "    point2 = s2 * P\n",
    "    point3 = s3 * P\n",
    "\n",
    "    assert (point1 + point2) + point3 == point1 + (point2 + point3), \"accociativity property failed\"\n",
    "    assert point1 + point2 == point2 + point1, \"commutativity property failed\"\n",
    "    assert (s1 + s2) * P == s1 * P + s2 * P, \"distributivity property failed\"\n",
    "\n",
    "\n",
    "def test_gen(gen, n):\n",
    "    assert n * gen  == EC.inf(), \"[n]G != inf\"\n",
    "    assert (n + 1) * gen == gen, \"[n+1]G != G\"\n",
    "\n",
    "\n",
    "\n",
    "\n",
    "for i in range(1, 25):\n",
    "    print(f\"Test({i}): \".ljust(15), end=\"\")\n",
    "    k = random.randint(1, n)\n",
    "    kP = k * G\n",
    "\n",
    "    test_inf(kP)\n",
    "    test_peklo(kP)\n",
    "    test_scalaro_producto(kP)\n",
    "    test_propitis(kP)\n",
    "\n",
    "    print(\"Passed\")\n",
    "\n",
    "print()\n",
    "print(\"Test [de]Generator\", end=\":\\t\")\n",
    "test_gen(G, n)\n",
    "print(\"Passed\")\n"
   ]
  },
  {
   "cell_type": "code",
   "execution_count": null,
   "id": "16fca49b",
   "metadata": {},
   "outputs": [],
   "source": []
  }
 ],
 "metadata": {
  "kernelspec": {
   "display_name": "Python 3",
   "language": "python",
   "name": "python3"
  },
  "language_info": {
   "codemirror_mode": {
    "name": "ipython",
    "version": 3
   },
   "file_extension": ".py",
   "mimetype": "text/x-python",
   "name": "python",
   "nbconvert_exporter": "python",
   "pygments_lexer": "ipython3",
   "version": "3.11.5"
  }
 },
 "nbformat": 4,
 "nbformat_minor": 5
}
