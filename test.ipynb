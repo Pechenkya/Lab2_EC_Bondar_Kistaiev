{
 "cells": [
  {
   "cell_type": "code",
   "execution_count": 5,
   "id": "bd7ed835",
   "metadata": {},
   "outputs": [],
   "source": [
    "from kriptografy import *\n",
    "import random"
   ]
  },
  {
   "cell_type": "code",
   "execution_count": 6,
   "id": "788db054",
   "metadata": {},
   "outputs": [],
   "source": [
    "PublicKeyInfrastructure = PKI()"
   ]
  },
  {
   "cell_type": "markdown",
   "id": "23970506",
   "metadata": {},
   "source": [
    "### ECDH example"
   ]
  },
  {
   "cell_type": "code",
   "execution_count": null,
   "id": "7cb404ce",
   "metadata": {},
   "outputs": [],
   "source": [
    "DH_User1 = UserSecretSharer(\"User1\", PublicKeyInfrastructure)\n",
    "DH_User2 = UserSecretSharer(\"User2\", PublicKeyInfrastructure)\n",
    "DH_User3 = UserSecretSharer(\"User3\", PublicKeyInfrastructure)\n",
    "\n",
    "init_req_1_to_2 = DH_User1.send_DH_init(\"User2\")\n",
    "DH_User2.receive_DH_init(init_req_1_to_2)\n",
    "\n",
    "init_req_2_to_3 = DH_User2.send_DH_init(\"User3\")\n",
    "DH_User3.receive_DH_init(init_req_2_to_3)\n",
    "\n",
    "U1_secrets = DH_User1.reveal_shared_secrets()['secrets']\n",
    "U2_secrets = DH_User2.reveal_shared_secrets()['secrets']\n",
    "U3_secrets = DH_User3.reveal_shared_secrets()['secrets']\n",
    "\n",
    "print(\"User1 revealed secrets:\", U1_secrets)\n",
    "print(\"User2 revealed secrets:\", U2_secrets)\n",
    "print(\"User3 revealed secrets:\", U3_secrets)\n",
    "\n",
    "# Verify that the shared secrets are consistent\n",
    "assert U2_secrets.get(\"User1\", None) == U1_secrets.get(\"User2\", None), \"❌ Shared secrets are not consistent across users 1 and 2. ❌\"\n",
    "assert U3_secrets.get(\"User1\", None) == U1_secrets.get(\"User3\", None), \"❌ Shared secrets are not consistent across users 1 and 3. ❌\"\n",
    "assert U3_secrets.get(\"User2\", None) == U2_secrets.get(\"User3\", None), \"❌ Shared secrets are not consistent across users 2 and 3. ❌\"\n",
    "\n",
    "print(\"✅ All shared secrets are consistent across users ✅\")"
   ]
  },
  {
   "cell_type": "markdown",
   "id": "1f566cd4",
   "metadata": {},
   "source": [
    "### DHE example"
   ]
  },
  {
   "cell_type": "code",
   "execution_count": null,
   "id": "16fca49b",
   "metadata": {},
   "outputs": [],
   "source": [
    "Peter = UserHybridTalker(\"Peter\", PublicKeyInfrastructure)\n",
    "Bean = UserHybridTalker(\"Bean\", PublicKeyInfrastructure)  \n",
    "Matthew = UserHybridTalker(\"Matthew\", PublicKeyInfrastructure)  \n",
    "\n",
    "tx = Peter.hybrid_send(\"Bean\", \"Pryvit, Bib!\")\n",
    "print(\"Peter -> Bean:\", tx)\n",
    "Bean.hybrid_receive(tx)\n",
    "\n",
    "tx = Peter.hybrid_send(\"Matthew\", \"Pryvit, Fren!\")\n",
    "print(\"Peter -> Matthew:\", tx)\n",
    "Matthew.hybrid_receive(tx)\n",
    "\n",
    "tx = Matthew.hybrid_send(\"Bean\", \"PetaB not fren!\")\n",
    "print(\"Matthew -> Bean:\", tx)\n",
    "Bean.hybrid_receive(tx)\n",
    "\n",
    "tx = Bean.hybrid_send(\"Peter\", \"PetaB fren! Matthew not fren!\")\n",
    "print(\"Bean -> Peter:\", tx)\n",
    "Peter.hybrid_receive(tx)\n",
    "\n",
    "tx = Peter.hybrid_send(\"Matthew\", \"PetaB fren! Why not fren!\")\n",
    "print(\"Peter -> Matthew:\", tx)\n",
    "Matthew.hybrid_receive(tx)\n",
    "\n",
    "tx = Matthew.hybrid_send(\"Peter\", \"Ti schizoFRENik! :D\")\n",
    "print(\"Matthew -> Peter:\", tx)\n",
    "Peter.hybrid_receive(tx)\n",
    "\n",
    "Leak_from_Peter = Peter.leak_chats()['chats']\n",
    "Leak_from_Matthew = Matthew.leak_chats()['chats']\n",
    "Leak_from_Bean = Bean.leak_chats()['chats']\n",
    "\n",
    "print(\"Peter's chat leak:\", Leak_from_Peter)\n",
    "print(\"Matthew's chat leak:\", Leak_from_Matthew)\n",
    "print(\"Bean's chat leak:\", Leak_from_Bean)\n",
    "\n",
    "# Verify that the chat leaks are consistent\n",
    "assert [e.replace(\"Received:\", \"Sent:\") for e in Leak_from_Peter.get(\"Bean\", None)] == Leak_from_Bean.get(\"Peter\", None), \"❌ Chat leaks are not consistent between Peter and Bean. ❌\"\n",
    "assert [e.replace(\"Received:\", \"Sent:\") for e in Leak_from_Peter.get(\"Matthew\", None)] == Leak_from_Matthew.get(\"Peter\", None), \"❌ Chat leaks are not consistent between Peter and Matthew. ❌\"\n",
    "assert [e.replace(\"Received:\", \"Sent:\") for e in Leak_from_Bean.get(\"Matthew\", None)] == Leak_from_Matthew.get(\"Bean\", None), \"❌ Chat leaks are not consistent between Bean and Matthew. ❌\"\n",
    "\n",
    "print(\"✅ All chat leaks are consistent across users ✅\")"
   ]
  },
  {
   "cell_type": "markdown",
   "id": "ffc113ba",
   "metadata": {},
   "source": [
    "### ECDSA example"
   ]
  },
  {
   "cell_type": "code",
   "execution_count": 7,
   "id": "626d49da",
   "metadata": {},
   "outputs": [
    {
     "ename": "TypeError",
     "evalue": "can't concat int to bytes",
     "output_type": "error",
     "traceback": [
      "\u001b[1;31m---------------------------------------------------------------------------\u001b[0m",
      "\u001b[1;31mTypeError\u001b[0m                                 Traceback (most recent call last)",
      "Cell \u001b[1;32mIn[7], line 5\u001b[0m\n\u001b[0;32m      2\u001b[0m Listener \u001b[38;5;241m=\u001b[39m DigitalSignatureUser(\u001b[38;5;124m\"\u001b[39m\u001b[38;5;124mListener\u001b[39m\u001b[38;5;124m\"\u001b[39m, PublicKeyInfrastructure)\n\u001b[0;32m      4\u001b[0m Message \u001b[38;5;241m=\u001b[39m \u001b[38;5;124m\"\u001b[39m\u001b[38;5;124mSong lyrics: \u001b[39m\u001b[38;5;124m'\u001b[39m\u001b[38;5;124mOi u poli, oi u poli, tam de zhyvut\u001b[39m\u001b[38;5;124m'\u001b[39m\u001b[38;5;124m lyudy!\u001b[39m\u001b[38;5;124m'\u001b[39m\u001b[38;5;124m\"\u001b[39m\n\u001b[1;32m----> 5\u001b[0m SignatureResp \u001b[38;5;241m=\u001b[39m \u001b[43mSinger\u001b[49m\u001b[38;5;241;43m.\u001b[39;49m\u001b[43msign_message\u001b[49m\u001b[43m(\u001b[49m\u001b[43mMessage\u001b[49m\u001b[43m)\u001b[49m\n\u001b[0;32m      6\u001b[0m \u001b[38;5;28mprint\u001b[39m(\u001b[38;5;124m\"\u001b[39m\u001b[38;5;124mSinger\u001b[39m\u001b[38;5;124m'\u001b[39m\u001b[38;5;124ms signature:\u001b[39m\u001b[38;5;124m\"\u001b[39m, SignatureResp)\n\u001b[0;32m      8\u001b[0m bSignCorrect \u001b[38;5;241m=\u001b[39m Listener\u001b[38;5;241m.\u001b[39mverify_signature(SignatureResp)\n",
      "File \u001b[1;32me:\\dev\\EC\\EC_Lab2\\kriptografy.py:174\u001b[0m, in \u001b[0;36mDigitalSignatureUser.sign_message\u001b[1;34m(self, message)\u001b[0m\n\u001b[0;32m    171\u001b[0m         R \u001b[38;5;241m=\u001b[39m k \u001b[38;5;241m*\u001b[39m \u001b[38;5;28mself\u001b[39m\u001b[38;5;241m.\u001b[39mEC\u001b[38;5;241m.\u001b[39mG\n\u001b[0;32m    172\u001b[0m         r \u001b[38;5;241m=\u001b[39m R\u001b[38;5;241m.\u001b[39mx \u001b[38;5;241m%\u001b[39m \u001b[38;5;28mself\u001b[39m\u001b[38;5;241m.\u001b[39mEC\u001b[38;5;241m.\u001b[39mn\n\u001b[1;32m--> 174\u001b[0m     s \u001b[38;5;241m=\u001b[39m (\u001b[38;5;28mpow\u001b[39m(k, \u001b[38;5;241m-\u001b[39m\u001b[38;5;241m1\u001b[39m, \u001b[38;5;28mself\u001b[39m\u001b[38;5;241m.\u001b[39mEC\u001b[38;5;241m.\u001b[39mn) \u001b[38;5;241m*\u001b[39m (\u001b[43mz\u001b[49m\u001b[43m \u001b[49m\u001b[38;5;241;43m+\u001b[39;49m\u001b[43m \u001b[49m\u001b[38;5;28;43mself\u001b[39;49m\u001b[38;5;241;43m.\u001b[39;49m\u001b[43msecret_key\u001b[49m\u001b[43m \u001b[49m\u001b[38;5;241;43m*\u001b[39;49m\u001b[43m \u001b[49m\u001b[43mr\u001b[49m)) \u001b[38;5;241m%\u001b[39m \u001b[38;5;28mself\u001b[39m\u001b[38;5;241m.\u001b[39mEC\u001b[38;5;241m.\u001b[39mn\n\u001b[0;32m    176\u001b[0m signature \u001b[38;5;241m=\u001b[39m (r, s)\n\u001b[0;32m    178\u001b[0m \u001b[38;5;28;01mreturn\u001b[39;00m {\n\u001b[0;32m    179\u001b[0m     \u001b[38;5;124m\"\u001b[39m\u001b[38;5;124mpackage_type\u001b[39m\u001b[38;5;124m\"\u001b[39m: \u001b[38;5;124m\"\u001b[39m\u001b[38;5;124msigned_message\u001b[39m\u001b[38;5;124m\"\u001b[39m,\n\u001b[0;32m    180\u001b[0m     \u001b[38;5;124m\"\u001b[39m\u001b[38;5;124mname\u001b[39m\u001b[38;5;124m\"\u001b[39m: \u001b[38;5;28mself\u001b[39m\u001b[38;5;241m.\u001b[39mname,\n\u001b[0;32m    181\u001b[0m     \u001b[38;5;124m\"\u001b[39m\u001b[38;5;124mmessage\u001b[39m\u001b[38;5;124m\"\u001b[39m: message,\n\u001b[0;32m    182\u001b[0m     \u001b[38;5;124m\"\u001b[39m\u001b[38;5;124msignature\u001b[39m\u001b[38;5;124m\"\u001b[39m: signature\n\u001b[0;32m    183\u001b[0m }\n",
      "\u001b[1;31mTypeError\u001b[0m: can't concat int to bytes"
     ]
    }
   ],
   "source": [
    "Singer = DigitalSignatureUser(\"Singer\", PublicKeyInfrastructure)\n",
    "Listener = DigitalSignatureUser(\"Listener\", PublicKeyInfrastructure)\n",
    "\n",
    "Message = \"Song lyrics: 'Oi u poli, oi u poli, tam de zhyvut' lyudy!'\"\n",
    "SignatureResp = Singer.sign_message(Message)\n",
    "print(\"Singer's signature:\", SignatureResp)\n",
    "\n",
    "bSignCorrect = Listener.verify_signature(SignatureResp)\n",
    "if bSignCorrect:\n",
    "    print(\"✅ Listener verified the signature successfully. ✅\")\n",
    "else:\n",
    "    print(\"❌ Listener failed to verify the signature. ❌\")"
   ]
  }
 ],
 "metadata": {
  "kernelspec": {
   "display_name": "Python 3",
   "language": "python",
   "name": "python3"
  },
  "language_info": {
   "codemirror_mode": {
    "name": "ipython",
    "version": 3
   },
   "file_extension": ".py",
   "mimetype": "text/x-python",
   "name": "python",
   "nbconvert_exporter": "python",
   "pygments_lexer": "ipython3",
   "version": "3.12.10"
  }
 },
 "nbformat": 4,
 "nbformat_minor": 5
}
